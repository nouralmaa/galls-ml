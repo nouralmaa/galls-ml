{
 "cells": [
  {
   "cell_type": "code",
   "execution_count": 1,
   "id": "adf59c58",
   "metadata": {},
   "outputs": [],
   "source": [
    "import pandas as pd\n",
    "import numpy as np \n",
    "import seaborn as sns\n",
    "\n",
    "from scipy import stats"
   ]
  },
  {
   "cell_type": "code",
   "execution_count": 2,
   "id": "6bb2c34c",
   "metadata": {},
   "outputs": [],
   "source": [
    "df = pd.read_excel(\"../gallstone/dataset/dataset-uci.xlsx\", sheet_name='sheet1').reset_index()\n",
    "\n",
    "# dataset source and documentation can be found at https://archive.ics.uci.edu/dataset/1150/gallstone-1 "
   ]
  },
  {
   "cell_type": "markdown",
   "id": "6894ead6",
   "metadata": {},
   "source": [
    "# Load Data "
   ]
  },
  {
   "cell_type": "code",
   "execution_count": 15,
   "id": "d26a0ba1",
   "metadata": {},
   "outputs": [],
   "source": [
    "df.columns = ['ID', 'gallstoneStatus', 'age', 'gender', 'comorbidity', 'coroaryArtDisease', 'hypothyromidism',\n",
    "             'hyperlipiidemia', 'diabetes', 'height', 'weight', 'bmi', 'totalBodyWater', 'extracellularWater',\n",
    "             'intracellularWater', 'extracellularFluid', 'totalBodyFatRatio%', 'leanMass%', 'protein%', 'visceralFatRat',\n",
    "             'boneMass', 'muscleMass', 'obesity%', 'totalFat', 'visceralFatArea', 'visceralMuscleArea', 'hepaticFatAcc', \n",
    "             'glucose', 'TC', 'LDL', 'HDL', 'triglyceride', 'AST', 'ALT', 'ALP', 'creatinine', 'GFR', 'reactiveProtein', \n",
    "             'hemoglobin', 'vitaminD']"
   ]
  },
  {
   "cell_type": "code",
   "execution_count": 16,
   "id": "52144bc8",
   "metadata": {},
   "outputs": [],
   "source": [
    "df['genderBin'] = df['gender'].apply(lambda x: 'female' if x == 1 else 'male')\n",
    "df['gallstoneStatusBin'] = df['gallstoneStatus'].apply(lambda x: x == 1)\n",
    "df['comordbidBin'] = df['comorbidity'].apply(lambda x: x == 1)"
   ]
  },
  {
   "cell_type": "markdown",
   "id": "49a5d78d",
   "metadata": {},
   "source": [
    "# Descriptive Stats Stuff"
   ]
  },
  {
   "cell_type": "code",
   "execution_count": 17,
   "id": "ebfb8be6",
   "metadata": {},
   "outputs": [
    {
     "data": {
      "text/html": [
       "<div>\n",
       "<style scoped>\n",
       "    .dataframe tbody tr th:only-of-type {\n",
       "        vertical-align: middle;\n",
       "    }\n",
       "\n",
       "    .dataframe tbody tr th {\n",
       "        vertical-align: top;\n",
       "    }\n",
       "\n",
       "    .dataframe thead th {\n",
       "        text-align: right;\n",
       "    }\n",
       "</style>\n",
       "<table border=\"1\" class=\"dataframe\">\n",
       "  <thead>\n",
       "    <tr style=\"text-align: right;\">\n",
       "      <th></th>\n",
       "      <th>count</th>\n",
       "      <th>mean</th>\n",
       "      <th>std</th>\n",
       "      <th>min</th>\n",
       "      <th>25%</th>\n",
       "      <th>50%</th>\n",
       "      <th>75%</th>\n",
       "      <th>max</th>\n",
       "    </tr>\n",
       "  </thead>\n",
       "  <tbody>\n",
       "    <tr>\n",
       "      <th>age</th>\n",
       "      <td>319.0</td>\n",
       "      <td>48.068966</td>\n",
       "      <td>12.114558</td>\n",
       "      <td>20.0</td>\n",
       "      <td>38.50</td>\n",
       "      <td>49.0</td>\n",
       "      <td>56.00</td>\n",
       "      <td>96.0</td>\n",
       "    </tr>\n",
       "    <tr>\n",
       "      <th>height</th>\n",
       "      <td>319.0</td>\n",
       "      <td>167.156740</td>\n",
       "      <td>10.053030</td>\n",
       "      <td>145.0</td>\n",
       "      <td>159.50</td>\n",
       "      <td>168.0</td>\n",
       "      <td>175.00</td>\n",
       "      <td>191.0</td>\n",
       "    </tr>\n",
       "    <tr>\n",
       "      <th>weight</th>\n",
       "      <td>319.0</td>\n",
       "      <td>80.564890</td>\n",
       "      <td>15.709069</td>\n",
       "      <td>42.9</td>\n",
       "      <td>69.60</td>\n",
       "      <td>78.8</td>\n",
       "      <td>91.25</td>\n",
       "      <td>143.5</td>\n",
       "    </tr>\n",
       "    <tr>\n",
       "      <th>bmi</th>\n",
       "      <td>319.0</td>\n",
       "      <td>28.877116</td>\n",
       "      <td>5.313707</td>\n",
       "      <td>17.4</td>\n",
       "      <td>25.25</td>\n",
       "      <td>28.3</td>\n",
       "      <td>31.85</td>\n",
       "      <td>49.7</td>\n",
       "    </tr>\n",
       "    <tr>\n",
       "      <th>obesity%</th>\n",
       "      <td>319.0</td>\n",
       "      <td>35.850125</td>\n",
       "      <td>109.799718</td>\n",
       "      <td>0.4</td>\n",
       "      <td>13.90</td>\n",
       "      <td>25.6</td>\n",
       "      <td>41.75</td>\n",
       "      <td>1954.0</td>\n",
       "    </tr>\n",
       "  </tbody>\n",
       "</table>\n",
       "</div>"
      ],
      "text/plain": [
       "          count        mean         std    min     25%    50%     75%     max\n",
       "age       319.0   48.068966   12.114558   20.0   38.50   49.0   56.00    96.0\n",
       "height    319.0  167.156740   10.053030  145.0  159.50  168.0  175.00   191.0\n",
       "weight    319.0   80.564890   15.709069   42.9   69.60   78.8   91.25   143.5\n",
       "bmi       319.0   28.877116    5.313707   17.4   25.25   28.3   31.85    49.7\n",
       "obesity%  319.0   35.850125  109.799718    0.4   13.90   25.6   41.75  1954.0"
      ]
     },
     "execution_count": 17,
     "metadata": {},
     "output_type": "execute_result"
    }
   ],
   "source": [
    "patientSumm = ['age', 'height', 'weight', 'bmi' , 'obesity%']\n",
    "\n",
    "df[patientSumm].describe().T"
   ]
  },
  {
   "cell_type": "code",
   "execution_count": 18,
   "id": "180cc1ae",
   "metadata": {},
   "outputs": [
    {
     "data": {
      "text/plain": [
       "gallstoneStatusBin\n",
       "False    161\n",
       "True     158\n",
       "Name: count, dtype: int64"
      ]
     },
     "execution_count": 18,
     "metadata": {},
     "output_type": "execute_result"
    }
   ],
   "source": [
    "df['gallstoneStatusBin'].value_counts()"
   ]
  },
  {
   "cell_type": "code",
   "execution_count": 19,
   "id": "9c364415",
   "metadata": {},
   "outputs": [
    {
     "data": {
      "text/plain": [
       "gallstoneStatusBin  genderBin\n",
       "False               female       67\n",
       "                    male         94\n",
       "True                female       90\n",
       "                    male         68\n",
       "Name: ID, dtype: int64"
      ]
     },
     "execution_count": 19,
     "metadata": {},
     "output_type": "execute_result"
    }
   ],
   "source": [
    "df.groupby(by=['gallstoneStatusBin', 'genderBin'])['ID'].count()"
   ]
  },
  {
   "cell_type": "markdown",
   "id": "e557b669",
   "metadata": {},
   "source": [
    "### Is There an Association Between Patient Demographics and Gallstone Incidence? "
   ]
  },
  {
   "cell_type": "markdown",
   "id": "bc219a69",
   "metadata": {},
   "source": [
    "##### Gender"
   ]
  },
  {
   "cell_type": "code",
   "execution_count": 20,
   "id": "38cfcfac",
   "metadata": {},
   "outputs": [
    {
     "data": {
      "text/plain": [
       "(np.float64(1.8568920105355575), np.float64(0.007195029358147645))"
      ]
     },
     "execution_count": 20,
     "metadata": {},
     "output_type": "execute_result"
    }
   ],
   "source": [
    "gender_gall = stats.fisher_exact(pd.crosstab(df['gallstoneStatus'], df['gender']))\n",
    "gender_gall.statistic, gender_gall.pvalue"
   ]
  },
  {
   "cell_type": "markdown",
   "id": "5bb1f498",
   "metadata": {},
   "source": [
    "##### Height, Weight, Age, BMI, obesity"
   ]
  },
  {
   "cell_type": "code",
   "execution_count": 21,
   "id": "07644c86",
   "metadata": {},
   "outputs": [
    {
     "data": {
      "text/plain": [
       "[('age',\n",
       "  SignificanceResult(statistic=np.float64(0.04264314616421671), pvalue=np.float64(0.4478606826300362))),\n",
       " ('height',\n",
       "  SignificanceResult(statistic=np.float64(-0.12100414394945586), pvalue=np.float64(0.030721273922701017))),\n",
       " ('weight',\n",
       "  SignificanceResult(statistic=np.float64(0.051167433182639964), pvalue=np.float64(0.3623539234091636))),\n",
       " ('bmi',\n",
       "  SignificanceResult(statistic=np.float64(0.12113140932311382), pvalue=np.float64(0.030544738979242862))),\n",
       " ('obesity%',\n",
       "  SignificanceResult(statistic=np.float64(-0.003131991330908795), pvalue=np.float64(0.9555651080770513)))]"
      ]
     },
     "execution_count": 21,
     "metadata": {},
     "output_type": "execute_result"
    }
   ],
   "source": [
    "gallstone_summ_stat = { patient: stats.spearmanr(df[patient], df['gallstoneStatus']) for patient in patientSumm }\n",
    "gallstone_summ_stat = [(item, gallstone) for item, gallstone in gallstone_summ_stat.items()]\n",
    "gallstone_summ_stat"
   ]
  },
  {
   "cell_type": "code",
   "execution_count": 22,
   "id": "d9c6bf35",
   "metadata": {},
   "outputs": [
    {
     "data": {
      "text/plain": [
       "gallstoneStatusBin\n",
       "False    28.238509\n",
       "True     29.527848\n",
       "Name: bmi, dtype: float64"
      ]
     },
     "execution_count": 22,
     "metadata": {},
     "output_type": "execute_result"
    }
   ],
   "source": [
    "df.groupby(by=['gallstoneStatusBin'])['bmi'].mean()"
   ]
  },
  {
   "cell_type": "code",
   "execution_count": 23,
   "id": "480fc168",
   "metadata": {},
   "outputs": [
    {
     "data": {
      "text/plain": [
       "gallstoneStatusBin\n",
       "False    168.229814\n",
       "True     166.063291\n",
       "Name: height, dtype: float64"
      ]
     },
     "execution_count": 23,
     "metadata": {},
     "output_type": "execute_result"
    }
   ],
   "source": [
    "df.groupby(by=['gallstoneStatusBin'])['height'].mean()"
   ]
  },
  {
   "cell_type": "markdown",
   "id": "c463b448",
   "metadata": {},
   "source": [
    "### Do those with comordibidies have more gallstone "
   ]
  },
  {
   "cell_type": "code",
   "execution_count": 24,
   "id": "02f6afe4",
   "metadata": {},
   "outputs": [
    {
     "data": {
      "text/plain": [
       "(np.float64(10884.5), np.float64(0.9939552402033391))"
      ]
     },
     "execution_count": 24,
     "metadata": {},
     "output_type": "execute_result"
    }
   ],
   "source": [
    "comordbid_gals = stats.mannwhitneyu(df[df['comordbidBin'] == True]['gallstoneStatus'], df[df['comordbidBin'] == False]['gallstoneStatus'])\n",
    "comordbid_gals.statistic, comordbid_gals.pvalue"
   ]
  },
  {
   "cell_type": "markdown",
   "id": "9da5b124",
   "metadata": {},
   "source": [
    "# Results "
   ]
  },
  {
   "cell_type": "code",
   "execution_count": 25,
   "id": "dd90217d",
   "metadata": {},
   "outputs": [],
   "source": [
    "df_lab = ['glucose', 'TC', 'LDL', 'HDL', 'triglyceride', 'AST', 'ALP', 'creatinine', 'GFR', 'reactiveProtein', \n",
    "          'hemoglobin', 'vitaminD']\n",
    "\n",
    "df_bioimpend = ['totalBodyWater', 'extracellularWater', 'intracellularWater', 'extracellularFluid',\n",
    "                'totalBodyFatRatio%', 'leanMass%', 'protein%', 'visceralFatRat', 'boneMass', 'muscleMass',\n",
    "                'obesity%', 'totalFat', 'visceralFatArea', 'visceralMuscleArea', 'hepaticFatAcc']\n",
    "\n",
    "df_demographs = ['gallstoneStatus', 'gender', 'age', 'comorbidity', 'coroaryArtDisease', 'diabetes', 'bmi',\n",
    "                 'height', 'hyperlipiidemia', 'hypothyromidism', 'weight', 'coroaryArtDisease', 'comorbidity']\n",
    "\n",
    "df_results = df_lab + df_bioimpend + df_demographs\n",
    "\n",
    "df_results = df[df_results]"
   ]
  },
  {
   "cell_type": "markdown",
   "id": "61ff551a",
   "metadata": {},
   "source": [
    "### Which features are most important for gallstone?"
   ]
  },
  {
   "cell_type": "code",
   "execution_count": 26,
   "id": "660f7c17",
   "metadata": {},
   "outputs": [],
   "source": [
    "from sklearn.feature_selection import SelectKBest, f_classif\n",
    "from sklearn.model_selection import train_test_split"
   ]
  },
  {
   "cell_type": "code",
   "execution_count": 27,
   "id": "e8f89e54",
   "metadata": {},
   "outputs": [],
   "source": [
    "X = df_results.drop(columns=['gallstoneStatus'])\n",
    "Y = df_results['gallstoneStatus']"
   ]
  },
  {
   "cell_type": "code",
   "execution_count": 28,
   "id": "9bbdcef9",
   "metadata": {},
   "outputs": [],
   "source": [
    "Xtrain, Xtest, Ytrain, Ytest = train_test_split(X, Y, test_size=0.3, random_state=42)\n",
    "\n",
    "fscore, pvalue = f_classif(Xtrain, Ytrain)"
   ]
  },
  {
   "cell_type": "code",
   "execution_count": 29,
   "id": "dd2b7968",
   "metadata": {},
   "outputs": [
    {
     "data": {
      "text/plain": [
       "vitaminD              25.275755\n",
       "reactiveProtein       15.978928\n",
       "boneMass              14.945238\n",
       "hemoglobin            13.644494\n",
       "extracellularWater    10.882063\n",
       "extracellularFluid     7.927943\n",
       "HDL                    7.003220\n",
       "gender                 6.267352\n",
       "hyperlipiidemia        6.226669\n",
       "totalBodyFatRatio%     5.910276\n",
       "leanMass%              5.909446\n",
       "creatinine             5.554153\n",
       "totalBodyWater         5.496420\n",
       "muscleMass             4.370901\n",
       "AST                    3.883265\n",
       "visceralMuscleArea     2.924792\n",
       "comorbidity            2.380052\n",
       "comorbidity            2.380052\n",
       "triglyceride           2.300982\n",
       "ALP                    2.274790\n",
       "height                 2.181929\n",
       "totalFat               1.782059\n",
       "obesity%               1.771478\n",
       "protein%               1.319335\n",
       "visceralFatRat         1.108358\n",
       "coroaryArtDisease      1.065820\n",
       "coroaryArtDisease      1.065820\n",
       "glucose                0.999506\n",
       "diabetes               0.935591\n",
       "visceralFatArea        0.868278\n",
       "dtype: float64"
      ]
     },
     "execution_count": 29,
     "metadata": {},
     "output_type": "execute_result"
    }
   ],
   "source": [
    "fscores = pd.Series(fscore, index=Xtrain.columns)\n",
    "features = fscores[fscores > 0.70]\n",
    "features = features.sort_values(ascending=False)\n",
    "features "
   ]
  },
  {
   "cell_type": "code",
   "execution_count": 30,
   "id": "2d469be3",
   "metadata": {},
   "outputs": [],
   "source": [
    "# save features to csv \n",
    "\n",
    "featuresList = features.index.tolist()\n",
    "pd.Series(features).to_csv('fscore_features.csv')\n",
    "\n",
    "# save results to csv\n",
    "\n",
    "df_results.to_csv('df_results.csv')"
   ]
  },
  {
   "cell_type": "markdown",
   "id": "5888c914",
   "metadata": {},
   "source": [
    "### features bioimpendance only"
   ]
  },
  {
   "cell_type": "markdown",
   "id": "f639b2d9",
   "metadata": {},
   "source": [
    "df_bioimpend = df_bioimpend + df_demographs\n",
    "df_bioimpend = df_bioimpend.drop(columns=['gallstoneStatus'])\n",
    "\n",
    "Xbio = df[df_bioimpend]\n",
    "Ybio = df['gallstoneStatus']\n",
    "\n",
    "\n",
    "#df_bioimpend  = df[df_bioimpend]\n",
    "#df_bioimpend.to_csv('df_bioimpend.csv')"
   ]
  },
  {
   "cell_type": "markdown",
   "id": "1a9b4dad",
   "metadata": {},
   "source": [
    "fstat_bio, pvalue_bio = f_classif(Xbio, Ybio)\n",
    "\n",
    "bioimpend_gal = pd.DataFrame({'feature': Xbio.columns, 'fstattistic': fstat_bio, 'pvalue': pvalue_bio})\n",
    "bioimpend_gal = bioimpend_gal.sort_values(by='fstattistic', ascending=False).reset_index()\n",
    "bioimpend_gal"
   ]
  },
  {
   "cell_type": "markdown",
   "id": "2f21e7ca",
   "metadata": {},
   "source": [
    "# Heatmaps"
   ]
  },
  {
   "cell_type": "code",
   "execution_count": 31,
   "id": "03c74d58",
   "metadata": {},
   "outputs": [],
   "source": [
    "# TODO group feature importances in bins, then plot in heatmaps using gallstone means as colour\n",
    "# # TODO separate do table for gallstone non gallstoen means "
   ]
  },
  {
   "cell_type": "code",
   "execution_count": 32,
   "id": "f681aec6",
   "metadata": {},
   "outputs": [],
   "source": [
    "features_df = features.to_frame().reset_index()\n",
    "features_df.columns = ['feature', 'fscore']\n",
    "\n",
    "df_resultsHM = df_results.groupby(by=['gallstoneStatus']).mean().reset_index()\n",
    "df_resultsHM = df_resultsHM.T.reset_index()\n",
    "df_resultsHM.columns = ['feature', 'nonGallstoneMean', 'gallstoneMean']\n",
    "\n",
    "df_resultsHM = df_resultsHM.merge(features_df, on='feature', how='inner')\n",
    "df_resultsHM = df_resultsHM.drop_duplicates()\n",
    "df_resultsHM = df_resultsHM.set_index('feature').sort_index(level='fscore', ascending=False)"
   ]
  },
  {
   "cell_type": "markdown",
   "id": "beab9e67",
   "metadata": {},
   "source": []
  }
 ],
 "metadata": {
  "kernelspec": {
   "display_name": "envAnal",
   "language": "python",
   "name": "python3"
  },
  "language_info": {
   "codemirror_mode": {
    "name": "ipython",
    "version": 3
   },
   "file_extension": ".py",
   "mimetype": "text/x-python",
   "name": "python",
   "nbconvert_exporter": "python",
   "pygments_lexer": "ipython3",
   "version": "3.13.2"
  }
 },
 "nbformat": 4,
 "nbformat_minor": 5
}
