{
 "cells": [
  {
   "cell_type": "code",
   "execution_count": 1,
   "id": "be6543bf",
   "metadata": {},
   "outputs": [],
   "source": [
    "import pandas as pd\n",
    "import numpy as np"
   ]
  },
  {
   "cell_type": "markdown",
   "id": "ba70f23c",
   "metadata": {},
   "source": [
    "# Load all study data"
   ]
  },
  {
   "cell_type": "code",
   "execution_count": 2,
   "id": "035124f2",
   "metadata": {},
   "outputs": [],
   "source": [
    "df_features = pd.read_csv('../../dataset/fscore_features.csv')\n",
    "df_features.columns = ['feature', 'fscore']"
   ]
  },
  {
   "cell_type": "code",
   "execution_count": 3,
   "id": "efc2a922",
   "metadata": {},
   "outputs": [],
   "source": [
    "def get_data(limit=None):\n",
    "    df = pd.read_csv('../../dataset/df_results.csv')\n",
    "    X = df.drop(columns=['gallstoneStatus', 'Unnamed: 0'])\n",
    "    Y = df['gallstoneStatus']\n",
    "    # filter by anova features fscore > 0.70\n",
    "    X = X[df_features['feature']]\n",
    "    \n",
    "    return X, Y, df"
   ]
  },
  {
   "cell_type": "code",
   "execution_count": 4,
   "id": "45b28b1a",
   "metadata": {},
   "outputs": [],
   "source": [
    "# test \n",
    "\n",
    "X, Y, df = get_data()"
   ]
  },
  {
   "cell_type": "markdown",
   "id": "1e060e91",
   "metadata": {},
   "source": [
    "# Load Lab Data "
   ]
  },
  {
   "cell_type": "code",
   "execution_count": 5,
   "id": "4ef721a0",
   "metadata": {},
   "outputs": [],
   "source": [
    "def get_data_lab(limit=None):\n",
    "    df_lab = pd.read_csv('../../dataset/df_lab.csv')\n",
    "    X = df_lab.drop(columns=['gallstoneStatus'])\n",
    "    Y = df_lab['gallstoneStatus']\n",
    "\n",
    "    return X, Y, df_lab"
   ]
  },
  {
   "cell_type": "code",
   "execution_count": 6,
   "id": "c77c4f11",
   "metadata": {},
   "outputs": [],
   "source": [
    "# test\n",
    "\n",
    "X, Y, df_lab = get_data_lab()"
   ]
  },
  {
   "cell_type": "code",
   "execution_count": null,
   "id": "56a6403d",
   "metadata": {},
   "outputs": [],
   "source": []
  }
 ],
 "metadata": {
  "kernelspec": {
   "display_name": "base",
   "language": "python",
   "name": "python3"
  },
  "language_info": {
   "codemirror_mode": {
    "name": "ipython",
    "version": 3
   },
   "file_extension": ".py",
   "mimetype": "text/x-python",
   "name": "python",
   "nbconvert_exporter": "python",
   "pygments_lexer": "ipython3",
   "version": "3.13.5"
  }
 },
 "nbformat": 4,
 "nbformat_minor": 5
}
