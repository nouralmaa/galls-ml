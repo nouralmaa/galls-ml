{
 "cells": [
  {
   "cell_type": "code",
   "execution_count": 2,
   "id": "adf59c58",
   "metadata": {},
   "outputs": [],
   "source": [
    "import pandas as pd\n",
    "import numpy as np \n",
    "import seaborn as sns\n",
    "import matplotlib.pyplot as plt\n",
    "\n",
    "from scipy import stats"
   ]
  },
  {
   "cell_type": "markdown",
   "id": "6894ead6",
   "metadata": {},
   "source": [
    "# Load Data "
   ]
  },
  {
   "cell_type": "code",
   "execution_count": 3,
   "id": "934d820a",
   "metadata": {},
   "outputs": [],
   "source": [
    "df = pd.read_excel(\"../dataset/dataset-uci.xlsx\", sheet_name='Sheet1').reset_index()\n",
    "\n",
    "# dataset source and documentation can be found at https://archive.ics.uci.edu/dataset/1150/gallstone-1 "
   ]
  },
  {
   "cell_type": "code",
   "execution_count": 4,
   "id": "d26a0ba1",
   "metadata": {},
   "outputs": [],
   "source": [
    "df.columns = ['ID', 'gallstoneStatus', 'age', 'gender', 'comorbidity', 'coroaryArtDisease', 'hypothyromidism',\n",
    "              'hyperlipiidemia', 'diabetes', 'height', 'weight', 'bmi', 'totalBodyWater', 'extracellularWater',\n",
    "              'intracellularWater', 'extracellularFluid', 'totalBodyFatRatio%', 'leanMass%', 'protein%', 'visceralFatRat',\n",
    "              'boneMass', 'muscleMass', 'obesity%', 'totalFat', 'visceralFatArea', 'visceralMuscleArea', 'hepaticFatAcc', \n",
    "              'glucose', 'TC', 'LDL', 'HDL', 'triglyceride', 'AST', 'ALT', 'ALP', 'creatinine', 'GFR', 'reactiveProtein', \n",
    "              'hemoglobin', 'vitaminD']"
   ]
  },
  {
   "cell_type": "code",
   "execution_count": 5,
   "id": "52144bc8",
   "metadata": {},
   "outputs": [],
   "source": [
    "df['genderBin'] = df['gender'].apply(lambda x: 'female' if x == 1 else 'male')\n",
    "df['gallstoneStatusBin'] = df['gallstoneStatus'].apply(lambda x: x == 1)\n",
    "df['comordbidBin'] = df['comorbidity'].apply(lambda x: x == 1)"
   ]
  },
  {
   "cell_type": "code",
   "execution_count": 6,
   "id": "9478e19a",
   "metadata": {},
   "outputs": [
    {
     "data": {
      "text/plain": [
       "(319, 43)"
      ]
     },
     "execution_count": 6,
     "metadata": {},
     "output_type": "execute_result"
    }
   ],
   "source": [
    "df.shape"
   ]
  },
  {
   "cell_type": "code",
   "execution_count": 7,
   "id": "adf404e1",
   "metadata": {},
   "outputs": [
    {
     "data": {
      "text/plain": [
       "ID                    0\n",
       "gallstoneStatus       0\n",
       "age                   0\n",
       "gender                0\n",
       "comorbidity           0\n",
       "coroaryArtDisease     0\n",
       "hypothyromidism       0\n",
       "hyperlipiidemia       0\n",
       "diabetes              0\n",
       "height                0\n",
       "weight                0\n",
       "bmi                   0\n",
       "totalBodyWater        0\n",
       "extracellularWater    0\n",
       "intracellularWater    0\n",
       "extracellularFluid    0\n",
       "totalBodyFatRatio%    0\n",
       "leanMass%             0\n",
       "protein%              0\n",
       "visceralFatRat        0\n",
       "boneMass              0\n",
       "muscleMass            0\n",
       "obesity%              0\n",
       "totalFat              0\n",
       "visceralFatArea       0\n",
       "visceralMuscleArea    0\n",
       "hepaticFatAcc         0\n",
       "glucose               0\n",
       "TC                    0\n",
       "LDL                   0\n",
       "HDL                   0\n",
       "triglyceride          0\n",
       "AST                   0\n",
       "ALT                   0\n",
       "ALP                   0\n",
       "creatinine            0\n",
       "GFR                   0\n",
       "reactiveProtein       0\n",
       "hemoglobin            0\n",
       "vitaminD              0\n",
       "genderBin             0\n",
       "gallstoneStatusBin    0\n",
       "comordbidBin          0\n",
       "dtype: int64"
      ]
     },
     "execution_count": 7,
     "metadata": {},
     "output_type": "execute_result"
    }
   ],
   "source": [
    "df.isnull().sum()"
   ]
  },
  {
   "cell_type": "markdown",
   "id": "49a5d78d",
   "metadata": {},
   "source": [
    "# Descriptive Stats Stuff"
   ]
  },
  {
   "cell_type": "code",
   "execution_count": 8,
   "id": "ebfb8be6",
   "metadata": {},
   "outputs": [
    {
     "data": {
      "text/html": [
       "<div>\n",
       "<style scoped>\n",
       "    .dataframe tbody tr th:only-of-type {\n",
       "        vertical-align: middle;\n",
       "    }\n",
       "\n",
       "    .dataframe tbody tr th {\n",
       "        vertical-align: top;\n",
       "    }\n",
       "\n",
       "    .dataframe thead th {\n",
       "        text-align: right;\n",
       "    }\n",
       "</style>\n",
       "<table border=\"1\" class=\"dataframe\">\n",
       "  <thead>\n",
       "    <tr style=\"text-align: right;\">\n",
       "      <th></th>\n",
       "      <th>count</th>\n",
       "      <th>mean</th>\n",
       "      <th>std</th>\n",
       "      <th>min</th>\n",
       "      <th>25%</th>\n",
       "      <th>50%</th>\n",
       "      <th>75%</th>\n",
       "      <th>max</th>\n",
       "    </tr>\n",
       "  </thead>\n",
       "  <tbody>\n",
       "    <tr>\n",
       "      <th>age</th>\n",
       "      <td>319.0</td>\n",
       "      <td>48.068966</td>\n",
       "      <td>12.114558</td>\n",
       "      <td>20.0</td>\n",
       "      <td>38.50</td>\n",
       "      <td>49.0</td>\n",
       "      <td>56.00</td>\n",
       "      <td>96.0</td>\n",
       "    </tr>\n",
       "    <tr>\n",
       "      <th>height</th>\n",
       "      <td>319.0</td>\n",
       "      <td>167.156740</td>\n",
       "      <td>10.053030</td>\n",
       "      <td>145.0</td>\n",
       "      <td>159.50</td>\n",
       "      <td>168.0</td>\n",
       "      <td>175.00</td>\n",
       "      <td>191.0</td>\n",
       "    </tr>\n",
       "    <tr>\n",
       "      <th>weight</th>\n",
       "      <td>319.0</td>\n",
       "      <td>80.564890</td>\n",
       "      <td>15.709069</td>\n",
       "      <td>42.9</td>\n",
       "      <td>69.60</td>\n",
       "      <td>78.8</td>\n",
       "      <td>91.25</td>\n",
       "      <td>143.5</td>\n",
       "    </tr>\n",
       "    <tr>\n",
       "      <th>bmi</th>\n",
       "      <td>319.0</td>\n",
       "      <td>28.877116</td>\n",
       "      <td>5.313707</td>\n",
       "      <td>17.4</td>\n",
       "      <td>25.25</td>\n",
       "      <td>28.3</td>\n",
       "      <td>31.85</td>\n",
       "      <td>49.7</td>\n",
       "    </tr>\n",
       "    <tr>\n",
       "      <th>obesity%</th>\n",
       "      <td>319.0</td>\n",
       "      <td>35.850125</td>\n",
       "      <td>109.799718</td>\n",
       "      <td>0.4</td>\n",
       "      <td>13.90</td>\n",
       "      <td>25.6</td>\n",
       "      <td>41.75</td>\n",
       "      <td>1954.0</td>\n",
       "    </tr>\n",
       "  </tbody>\n",
       "</table>\n",
       "</div>"
      ],
      "text/plain": [
       "          count        mean         std    min     25%    50%     75%     max\n",
       "age       319.0   48.068966   12.114558   20.0   38.50   49.0   56.00    96.0\n",
       "height    319.0  167.156740   10.053030  145.0  159.50  168.0  175.00   191.0\n",
       "weight    319.0   80.564890   15.709069   42.9   69.60   78.8   91.25   143.5\n",
       "bmi       319.0   28.877116    5.313707   17.4   25.25   28.3   31.85    49.7\n",
       "obesity%  319.0   35.850125  109.799718    0.4   13.90   25.6   41.75  1954.0"
      ]
     },
     "execution_count": 8,
     "metadata": {},
     "output_type": "execute_result"
    }
   ],
   "source": [
    "patientSumm = ['age', 'height', 'weight', 'bmi' , 'obesity%']\n",
    "\n",
    "df[patientSumm].describe().T"
   ]
  },
  {
   "cell_type": "code",
   "execution_count": 9,
   "id": "180cc1ae",
   "metadata": {},
   "outputs": [
    {
     "data": {
      "text/plain": [
       "gallstoneStatusBin\n",
       "False    161\n",
       "True     158\n",
       "Name: count, dtype: int64"
      ]
     },
     "execution_count": 9,
     "metadata": {},
     "output_type": "execute_result"
    }
   ],
   "source": [
    "df['gallstoneStatusBin'].value_counts()"
   ]
  },
  {
   "cell_type": "code",
   "execution_count": 10,
   "id": "9c364415",
   "metadata": {},
   "outputs": [
    {
     "data": {
      "text/plain": [
       "gallstoneStatusBin  genderBin\n",
       "False               female       67\n",
       "                    male         94\n",
       "True                female       90\n",
       "                    male         68\n",
       "Name: ID, dtype: int64"
      ]
     },
     "execution_count": 10,
     "metadata": {},
     "output_type": "execute_result"
    }
   ],
   "source": [
    "df.groupby(by=['gallstoneStatusBin', 'genderBin'])['ID'].count()"
   ]
  },
  {
   "cell_type": "markdown",
   "id": "e557b669",
   "metadata": {},
   "source": [
    "### Is There an Association Between Patient Demographics and Gallstone Incidence? "
   ]
  },
  {
   "cell_type": "markdown",
   "id": "bc219a69",
   "metadata": {},
   "source": [
    "##### Gender"
   ]
  },
  {
   "cell_type": "code",
   "execution_count": 11,
   "id": "38cfcfac",
   "metadata": {},
   "outputs": [
    {
     "data": {
      "text/plain": [
       "(np.float64(1.8568920105355575), np.float64(0.007195029358147645))"
      ]
     },
     "execution_count": 11,
     "metadata": {},
     "output_type": "execute_result"
    }
   ],
   "source": [
    "gender_gall = stats.fisher_exact(pd.crosstab(df['gallstoneStatus'], df['gender']))\n",
    "gender_gall.statistic, gender_gall.pvalue"
   ]
  },
  {
   "cell_type": "markdown",
   "id": "5bb1f498",
   "metadata": {},
   "source": [
    "##### Height, Weight, Age, BMI, obesity"
   ]
  },
  {
   "cell_type": "code",
   "execution_count": 12,
   "id": "07644c86",
   "metadata": {},
   "outputs": [
    {
     "data": {
      "text/plain": [
       "[('age',\n",
       "  SignificanceResult(statistic=np.float64(0.04264314616421671), pvalue=np.float64(0.4478606826300362))),\n",
       " ('height',\n",
       "  SignificanceResult(statistic=np.float64(-0.12100414394945586), pvalue=np.float64(0.030721273922701017))),\n",
       " ('weight',\n",
       "  SignificanceResult(statistic=np.float64(0.051167433182639964), pvalue=np.float64(0.3623539234091636))),\n",
       " ('bmi',\n",
       "  SignificanceResult(statistic=np.float64(0.12113140932311382), pvalue=np.float64(0.030544738979242862))),\n",
       " ('obesity%',\n",
       "  SignificanceResult(statistic=np.float64(-0.003131991330908795), pvalue=np.float64(0.9555651080770513)))]"
      ]
     },
     "execution_count": 12,
     "metadata": {},
     "output_type": "execute_result"
    }
   ],
   "source": [
    "gallstone_summ_stat = { patient: stats.spearmanr(df[patient], df['gallstoneStatus']) for patient in patientSumm }\n",
    "gallstone_summ_stat = [(item, gallstone) for item, gallstone in gallstone_summ_stat.items()]\n",
    "gallstone_summ_stat"
   ]
  },
  {
   "cell_type": "code",
   "execution_count": 13,
   "id": "d9c6bf35",
   "metadata": {},
   "outputs": [
    {
     "data": {
      "text/plain": [
       "gallstoneStatusBin\n",
       "False    28.238509\n",
       "True     29.527848\n",
       "Name: bmi, dtype: float64"
      ]
     },
     "execution_count": 13,
     "metadata": {},
     "output_type": "execute_result"
    }
   ],
   "source": [
    "df.groupby(by=['gallstoneStatusBin'])['bmi'].mean()"
   ]
  },
  {
   "cell_type": "code",
   "execution_count": 14,
   "id": "480fc168",
   "metadata": {},
   "outputs": [
    {
     "data": {
      "text/plain": [
       "gallstoneStatusBin\n",
       "False    168.229814\n",
       "True     166.063291\n",
       "Name: height, dtype: float64"
      ]
     },
     "execution_count": 14,
     "metadata": {},
     "output_type": "execute_result"
    }
   ],
   "source": [
    "df.groupby(by=['gallstoneStatusBin'])['height'].mean()"
   ]
  },
  {
   "cell_type": "markdown",
   "id": "c463b448",
   "metadata": {},
   "source": [
    "### Do those with comordibidies have more gallstone "
   ]
  },
  {
   "cell_type": "code",
   "execution_count": 15,
   "id": "02f6afe4",
   "metadata": {},
   "outputs": [
    {
     "data": {
      "text/plain": [
       "(np.float64(10884.5), np.float64(0.9939552402033391))"
      ]
     },
     "execution_count": 15,
     "metadata": {},
     "output_type": "execute_result"
    }
   ],
   "source": [
    "comordbid_gals = stats.mannwhitneyu(df[df['comordbidBin'] == True]['gallstoneStatus'], df[df['comordbidBin'] == False]['gallstoneStatus'])\n",
    "comordbid_gals.statistic, comordbid_gals.pvalue"
   ]
  },
  {
   "cell_type": "markdown",
   "id": "9da5b124",
   "metadata": {},
   "source": [
    "# Results "
   ]
  },
  {
   "cell_type": "code",
   "execution_count": 16,
   "id": "dd90217d",
   "metadata": {},
   "outputs": [],
   "source": [
    "df_lab = ['glucose', 'TC', 'LDL', 'HDL', 'triglyceride', 'AST', 'ALP', 'creatinine', 'GFR', 'reactiveProtein', \n",
    "          'hemoglobin', 'vitaminD']\n",
    "\n",
    "df_bioimpend = ['totalBodyWater', 'extracellularWater', 'intracellularWater', 'extracellularFluid',\n",
    "                'totalBodyFatRatio%', 'leanMass%', 'protein%', 'visceralFatRat', 'boneMass', 'muscleMass',\n",
    "                'obesity%', 'totalFat', 'visceralFatArea', 'visceralMuscleArea', 'hepaticFatAcc']\n",
    "\n",
    "df_demographs = ['gallstoneStatus', 'gender', 'age', 'coroaryArtDisease', 'diabetes', 'bmi',\n",
    "                 'height', 'hyperlipiidemia', 'hypothyromidism', 'weight', 'comorbidity']\n",
    "\n",
    "df_results = df_lab + df_bioimpend + df_demographs\n",
    "\n",
    "df_results = df[df_results]\n"
   ]
  },
  {
   "cell_type": "code",
   "execution_count": 17,
   "id": "637bf540",
   "metadata": {},
   "outputs": [
    {
     "data": {
      "text/html": [
       "<div>\n",
       "<style scoped>\n",
       "    .dataframe tbody tr th:only-of-type {\n",
       "        vertical-align: middle;\n",
       "    }\n",
       "\n",
       "    .dataframe tbody tr th {\n",
       "        vertical-align: top;\n",
       "    }\n",
       "\n",
       "    .dataframe thead th {\n",
       "        text-align: right;\n",
       "    }\n",
       "</style>\n",
       "<table border=\"1\" class=\"dataframe\">\n",
       "  <thead>\n",
       "    <tr style=\"text-align: right;\">\n",
       "      <th></th>\n",
       "      <th>glucose</th>\n",
       "      <th>TC</th>\n",
       "      <th>LDL</th>\n",
       "      <th>HDL</th>\n",
       "      <th>triglyceride</th>\n",
       "      <th>AST</th>\n",
       "      <th>ALP</th>\n",
       "      <th>creatinine</th>\n",
       "      <th>GFR</th>\n",
       "      <th>reactiveProtein</th>\n",
       "      <th>...</th>\n",
       "      <th>gender</th>\n",
       "      <th>age</th>\n",
       "      <th>coroaryArtDisease</th>\n",
       "      <th>diabetes</th>\n",
       "      <th>bmi</th>\n",
       "      <th>height</th>\n",
       "      <th>hyperlipiidemia</th>\n",
       "      <th>hypothyromidism</th>\n",
       "      <th>weight</th>\n",
       "      <th>comorbidity</th>\n",
       "    </tr>\n",
       "  </thead>\n",
       "  <tbody>\n",
       "    <tr>\n",
       "      <th>0</th>\n",
       "      <td>102.0</td>\n",
       "      <td>250.0</td>\n",
       "      <td>175.0</td>\n",
       "      <td>40.0</td>\n",
       "      <td>134.0</td>\n",
       "      <td>20.0</td>\n",
       "      <td>87.0</td>\n",
       "      <td>0.82</td>\n",
       "      <td>112.47</td>\n",
       "      <td>0.0</td>\n",
       "      <td>...</td>\n",
       "      <td>0</td>\n",
       "      <td>50</td>\n",
       "      <td>0</td>\n",
       "      <td>0</td>\n",
       "      <td>27.1</td>\n",
       "      <td>185</td>\n",
       "      <td>0</td>\n",
       "      <td>0</td>\n",
       "      <td>92.8</td>\n",
       "      <td>0</td>\n",
       "    </tr>\n",
       "    <tr>\n",
       "      <th>1</th>\n",
       "      <td>94.0</td>\n",
       "      <td>172.0</td>\n",
       "      <td>108.0</td>\n",
       "      <td>43.0</td>\n",
       "      <td>103.0</td>\n",
       "      <td>14.0</td>\n",
       "      <td>46.0</td>\n",
       "      <td>0.87</td>\n",
       "      <td>107.10</td>\n",
       "      <td>0.0</td>\n",
       "      <td>...</td>\n",
       "      <td>0</td>\n",
       "      <td>47</td>\n",
       "      <td>0</td>\n",
       "      <td>0</td>\n",
       "      <td>30.5</td>\n",
       "      <td>176</td>\n",
       "      <td>0</td>\n",
       "      <td>0</td>\n",
       "      <td>94.5</td>\n",
       "      <td>1</td>\n",
       "    </tr>\n",
       "    <tr>\n",
       "      <th>2</th>\n",
       "      <td>103.0</td>\n",
       "      <td>179.0</td>\n",
       "      <td>124.0</td>\n",
       "      <td>43.0</td>\n",
       "      <td>69.0</td>\n",
       "      <td>18.0</td>\n",
       "      <td>66.0</td>\n",
       "      <td>1.25</td>\n",
       "      <td>65.51</td>\n",
       "      <td>0.0</td>\n",
       "      <td>...</td>\n",
       "      <td>0</td>\n",
       "      <td>61</td>\n",
       "      <td>0</td>\n",
       "      <td>0</td>\n",
       "      <td>31.2</td>\n",
       "      <td>171</td>\n",
       "      <td>0</td>\n",
       "      <td>0</td>\n",
       "      <td>91.1</td>\n",
       "      <td>0</td>\n",
       "    </tr>\n",
       "    <tr>\n",
       "      <th>3</th>\n",
       "      <td>69.0</td>\n",
       "      <td>173.0</td>\n",
       "      <td>73.0</td>\n",
       "      <td>59.0</td>\n",
       "      <td>53.0</td>\n",
       "      <td>20.0</td>\n",
       "      <td>34.0</td>\n",
       "      <td>1.02</td>\n",
       "      <td>94.10</td>\n",
       "      <td>0.0</td>\n",
       "      <td>...</td>\n",
       "      <td>0</td>\n",
       "      <td>41</td>\n",
       "      <td>0</td>\n",
       "      <td>0</td>\n",
       "      <td>24.0</td>\n",
       "      <td>168</td>\n",
       "      <td>0</td>\n",
       "      <td>0</td>\n",
       "      <td>67.7</td>\n",
       "      <td>0</td>\n",
       "    </tr>\n",
       "    <tr>\n",
       "      <th>4</th>\n",
       "      <td>109.0</td>\n",
       "      <td>205.0</td>\n",
       "      <td>154.0</td>\n",
       "      <td>30.0</td>\n",
       "      <td>326.0</td>\n",
       "      <td>27.0</td>\n",
       "      <td>71.0</td>\n",
       "      <td>0.82</td>\n",
       "      <td>112.47</td>\n",
       "      <td>0.0</td>\n",
       "      <td>...</td>\n",
       "      <td>0</td>\n",
       "      <td>42</td>\n",
       "      <td>0</td>\n",
       "      <td>0</td>\n",
       "      <td>28.3</td>\n",
       "      <td>178</td>\n",
       "      <td>0</td>\n",
       "      <td>0</td>\n",
       "      <td>89.6</td>\n",
       "      <td>0</td>\n",
       "    </tr>\n",
       "    <tr>\n",
       "      <th>...</th>\n",
       "      <td>...</td>\n",
       "      <td>...</td>\n",
       "      <td>...</td>\n",
       "      <td>...</td>\n",
       "      <td>...</td>\n",
       "      <td>...</td>\n",
       "      <td>...</td>\n",
       "      <td>...</td>\n",
       "      <td>...</td>\n",
       "      <td>...</td>\n",
       "      <td>...</td>\n",
       "      <td>...</td>\n",
       "      <td>...</td>\n",
       "      <td>...</td>\n",
       "      <td>...</td>\n",
       "      <td>...</td>\n",
       "      <td>...</td>\n",
       "      <td>...</td>\n",
       "      <td>...</td>\n",
       "      <td>...</td>\n",
       "      <td>...</td>\n",
       "    </tr>\n",
       "    <tr>\n",
       "      <th>314</th>\n",
       "      <td>129.0</td>\n",
       "      <td>178.0</td>\n",
       "      <td>113.0</td>\n",
       "      <td>55.0</td>\n",
       "      <td>81.0</td>\n",
       "      <td>28.0</td>\n",
       "      <td>90.0</td>\n",
       "      <td>0.98</td>\n",
       "      <td>94.50</td>\n",
       "      <td>6.2</td>\n",
       "      <td>...</td>\n",
       "      <td>0</td>\n",
       "      <td>49</td>\n",
       "      <td>0</td>\n",
       "      <td>0</td>\n",
       "      <td>28.0</td>\n",
       "      <td>178</td>\n",
       "      <td>0</td>\n",
       "      <td>0</td>\n",
       "      <td>88.8</td>\n",
       "      <td>0</td>\n",
       "    </tr>\n",
       "    <tr>\n",
       "      <th>315</th>\n",
       "      <td>96.0</td>\n",
       "      <td>176.0</td>\n",
       "      <td>99.0</td>\n",
       "      <td>58.0</td>\n",
       "      <td>64.0</td>\n",
       "      <td>24.0</td>\n",
       "      <td>38.0</td>\n",
       "      <td>0.50</td>\n",
       "      <td>128.50</td>\n",
       "      <td>0.0</td>\n",
       "      <td>...</td>\n",
       "      <td>1</td>\n",
       "      <td>31</td>\n",
       "      <td>0</td>\n",
       "      <td>0</td>\n",
       "      <td>21.7</td>\n",
       "      <td>157</td>\n",
       "      <td>0</td>\n",
       "      <td>0</td>\n",
       "      <td>53.4</td>\n",
       "      <td>0</td>\n",
       "    </tr>\n",
       "    <tr>\n",
       "      <th>316</th>\n",
       "      <td>122.0</td>\n",
       "      <td>228.0</td>\n",
       "      <td>153.0</td>\n",
       "      <td>45.0</td>\n",
       "      <td>168.0</td>\n",
       "      <td>21.0</td>\n",
       "      <td>94.0</td>\n",
       "      <td>1.04</td>\n",
       "      <td>83.23</td>\n",
       "      <td>0.0</td>\n",
       "      <td>...</td>\n",
       "      <td>0</td>\n",
       "      <td>58</td>\n",
       "      <td>0</td>\n",
       "      <td>0</td>\n",
       "      <td>32.7</td>\n",
       "      <td>172</td>\n",
       "      <td>0</td>\n",
       "      <td>0</td>\n",
       "      <td>96.6</td>\n",
       "      <td>0</td>\n",
       "    </tr>\n",
       "    <tr>\n",
       "      <th>317</th>\n",
       "      <td>96.0</td>\n",
       "      <td>227.0</td>\n",
       "      <td>159.0</td>\n",
       "      <td>33.0</td>\n",
       "      <td>253.0</td>\n",
       "      <td>40.0</td>\n",
       "      <td>115.0</td>\n",
       "      <td>1.01</td>\n",
       "      <td>98.23</td>\n",
       "      <td>0.4</td>\n",
       "      <td>...</td>\n",
       "      <td>1</td>\n",
       "      <td>37</td>\n",
       "      <td>0</td>\n",
       "      <td>0</td>\n",
       "      <td>28.2</td>\n",
       "      <td>177</td>\n",
       "      <td>0</td>\n",
       "      <td>0</td>\n",
       "      <td>88.4</td>\n",
       "      <td>0</td>\n",
       "    </tr>\n",
       "    <tr>\n",
       "      <th>318</th>\n",
       "      <td>93.0</td>\n",
       "      <td>296.0</td>\n",
       "      <td>155.0</td>\n",
       "      <td>273.0</td>\n",
       "      <td>19.0</td>\n",
       "      <td>25.0</td>\n",
       "      <td>73.0</td>\n",
       "      <td>0.85</td>\n",
       "      <td>73.00</td>\n",
       "      <td>0.0</td>\n",
       "      <td>...</td>\n",
       "      <td>1</td>\n",
       "      <td>60</td>\n",
       "      <td>0</td>\n",
       "      <td>0</td>\n",
       "      <td>26.8</td>\n",
       "      <td>154</td>\n",
       "      <td>0</td>\n",
       "      <td>0</td>\n",
       "      <td>63.5</td>\n",
       "      <td>0</td>\n",
       "    </tr>\n",
       "  </tbody>\n",
       "</table>\n",
       "<p>319 rows × 38 columns</p>\n",
       "</div>"
      ],
      "text/plain": [
       "     glucose     TC    LDL    HDL  triglyceride   AST    ALP  creatinine  \\\n",
       "0      102.0  250.0  175.0   40.0         134.0  20.0   87.0        0.82   \n",
       "1       94.0  172.0  108.0   43.0         103.0  14.0   46.0        0.87   \n",
       "2      103.0  179.0  124.0   43.0          69.0  18.0   66.0        1.25   \n",
       "3       69.0  173.0   73.0   59.0          53.0  20.0   34.0        1.02   \n",
       "4      109.0  205.0  154.0   30.0         326.0  27.0   71.0        0.82   \n",
       "..       ...    ...    ...    ...           ...   ...    ...         ...   \n",
       "314    129.0  178.0  113.0   55.0          81.0  28.0   90.0        0.98   \n",
       "315     96.0  176.0   99.0   58.0          64.0  24.0   38.0        0.50   \n",
       "316    122.0  228.0  153.0   45.0         168.0  21.0   94.0        1.04   \n",
       "317     96.0  227.0  159.0   33.0         253.0  40.0  115.0        1.01   \n",
       "318     93.0  296.0  155.0  273.0          19.0  25.0   73.0        0.85   \n",
       "\n",
       "        GFR  reactiveProtein  ...  gender  age  coroaryArtDisease  diabetes  \\\n",
       "0    112.47              0.0  ...       0   50                  0         0   \n",
       "1    107.10              0.0  ...       0   47                  0         0   \n",
       "2     65.51              0.0  ...       0   61                  0         0   \n",
       "3     94.10              0.0  ...       0   41                  0         0   \n",
       "4    112.47              0.0  ...       0   42                  0         0   \n",
       "..      ...              ...  ...     ...  ...                ...       ...   \n",
       "314   94.50              6.2  ...       0   49                  0         0   \n",
       "315  128.50              0.0  ...       1   31                  0         0   \n",
       "316   83.23              0.0  ...       0   58                  0         0   \n",
       "317   98.23              0.4  ...       1   37                  0         0   \n",
       "318   73.00              0.0  ...       1   60                  0         0   \n",
       "\n",
       "      bmi  height  hyperlipiidemia  hypothyromidism  weight  comorbidity  \n",
       "0    27.1     185                0                0    92.8            0  \n",
       "1    30.5     176                0                0    94.5            1  \n",
       "2    31.2     171                0                0    91.1            0  \n",
       "3    24.0     168                0                0    67.7            0  \n",
       "4    28.3     178                0                0    89.6            0  \n",
       "..    ...     ...              ...              ...     ...          ...  \n",
       "314  28.0     178                0                0    88.8            0  \n",
       "315  21.7     157                0                0    53.4            0  \n",
       "316  32.7     172                0                0    96.6            0  \n",
       "317  28.2     177                0                0    88.4            0  \n",
       "318  26.8     154                0                0    63.5            0  \n",
       "\n",
       "[319 rows x 38 columns]"
      ]
     },
     "execution_count": 17,
     "metadata": {},
     "output_type": "execute_result"
    }
   ],
   "source": [
    "df_results"
   ]
  },
  {
   "cell_type": "markdown",
   "id": "61ff551a",
   "metadata": {},
   "source": [
    "### Which features overall are most important for gallstone?"
   ]
  },
  {
   "cell_type": "code",
   "execution_count": 18,
   "id": "eb19a567",
   "metadata": {},
   "outputs": [],
   "source": [
    "#Note that paper methodology doesn't implement splitting prior to anova feat selection"
   ]
  },
  {
   "cell_type": "code",
   "execution_count": 19,
   "id": "660f7c17",
   "metadata": {},
   "outputs": [],
   "source": [
    "from sklearn.feature_selection import SelectKBest, f_classif\n",
    "from sklearn.model_selection import train_test_split"
   ]
  },
  {
   "cell_type": "code",
   "execution_count": 20,
   "id": "e8f89e54",
   "metadata": {},
   "outputs": [],
   "source": [
    "X = df_results.drop(columns=['gallstoneStatus'])\n",
    "Y = df_results['gallstoneStatus']"
   ]
  },
  {
   "cell_type": "code",
   "execution_count": 21,
   "id": "9bbdcef9",
   "metadata": {},
   "outputs": [
    {
     "data": {
      "text/plain": [
       "(319, 38)"
      ]
     },
     "execution_count": 21,
     "metadata": {},
     "output_type": "execute_result"
    }
   ],
   "source": [
    "Xtrain, Xtest, Ytrain, Ytest = train_test_split(X, Y, test_size=0.3, random_state=42)\n",
    "\n",
    "fscore, pvalue = f_classif(Xtrain, Ytrain)\n",
    "\n",
    "df_results.shape"
   ]
  },
  {
   "cell_type": "code",
   "execution_count": 22,
   "id": "dd2b7968",
   "metadata": {},
   "outputs": [
    {
     "data": {
      "text/plain": [
       "vitaminD              25.275755\n",
       "reactiveProtein       15.978928\n",
       "boneMass              14.945238\n",
       "hemoglobin            13.644494\n",
       "extracellularWater    10.882063\n",
       "extracellularFluid     7.927943\n",
       "HDL                    7.003220\n",
       "gender                 6.267352\n",
       "hyperlipiidemia        6.226669\n",
       "totalBodyFatRatio%     5.910276\n",
       "leanMass%              5.909446\n",
       "creatinine             5.554153\n",
       "totalBodyWater         5.496420\n",
       "muscleMass             4.370901\n",
       "AST                    3.883265\n",
       "visceralMuscleArea     2.924792\n",
       "comorbidity            2.380052\n",
       "triglyceride           2.300982\n",
       "ALP                    2.274790\n",
       "height                 2.181929\n",
       "totalFat               1.782059\n",
       "obesity%               1.771478\n",
       "protein%               1.319335\n",
       "visceralFatRat         1.108358\n",
       "coroaryArtDisease      1.065820\n",
       "glucose                0.999506\n",
       "diabetes               0.935591\n",
       "visceralFatArea        0.868278\n",
       "dtype: float64"
      ]
     },
     "execution_count": 22,
     "metadata": {},
     "output_type": "execute_result"
    }
   ],
   "source": [
    "fscores = pd.Series(fscore, index=Xtrain.columns)\n",
    "features = fscores[fscores > 0.70]\n",
    "features = features.sort_values(ascending=False)\n",
    "features "
   ]
  },
  {
   "cell_type": "code",
   "execution_count": 23,
   "id": "2d469be3",
   "metadata": {},
   "outputs": [],
   "source": [
    "# save results to csv\n",
    "    ## df_results.to_csv('df_results.csv')\n",
    "\n",
    "# save results-main features to csv \n",
    "    ## featuresList = features.index.tolist()\n",
    "    ## pd.Series(features).to_csv('fscore_features.csv')"
   ]
  },
  {
   "cell_type": "markdown",
   "id": "4542c899",
   "metadata": {},
   "source": [
    "### Which features in lab data are more important? # TODO figure out solution to bmi/height"
   ]
  },
  {
   "cell_type": "code",
   "execution_count": 24,
   "id": "068672bd",
   "metadata": {},
   "outputs": [],
   "source": [
    "df_labResults = df_lab + df_demographs\n",
    "df_labResults = df_results[df_labResults]"
   ]
  },
  {
   "cell_type": "code",
   "execution_count": 25,
   "id": "ea0f1793",
   "metadata": {},
   "outputs": [],
   "source": [
    "Xlab = df_labResults.drop(columns=['gallstoneStatus'])\n",
    "Ylab = df_labResults['gallstoneStatus']\n",
    "\n",
    "XlabTrain, Xlabtest, YlabTrain, YlabTest = train_test_split(Xlab, Ylab, test_size=0.3, random_state=30)"
   ]
  },
  {
   "cell_type": "code",
   "execution_count": 26,
   "id": "bd749a0c",
   "metadata": {},
   "outputs": [
    {
     "data": {
      "text/html": [
       "<div>\n",
       "<style scoped>\n",
       "    .dataframe tbody tr th:only-of-type {\n",
       "        vertical-align: middle;\n",
       "    }\n",
       "\n",
       "    .dataframe tbody tr th {\n",
       "        vertical-align: top;\n",
       "    }\n",
       "\n",
       "    .dataframe thead th {\n",
       "        text-align: right;\n",
       "    }\n",
       "</style>\n",
       "<table border=\"1\" class=\"dataframe\">\n",
       "  <thead>\n",
       "    <tr style=\"text-align: right;\">\n",
       "      <th></th>\n",
       "      <th>index</th>\n",
       "      <th>fScore</th>\n",
       "      <th>p-value</th>\n",
       "    </tr>\n",
       "  </thead>\n",
       "  <tbody>\n",
       "    <tr>\n",
       "      <th>0</th>\n",
       "      <td>vitaminD</td>\n",
       "      <td>36.220134</td>\n",
       "      <td>7.251193e-09</td>\n",
       "    </tr>\n",
       "    <tr>\n",
       "      <th>1</th>\n",
       "      <td>reactiveProtein</td>\n",
       "      <td>15.591825</td>\n",
       "      <td>1.056737e-04</td>\n",
       "    </tr>\n",
       "    <tr>\n",
       "      <th>2</th>\n",
       "      <td>hemoglobin</td>\n",
       "      <td>11.045096</td>\n",
       "      <td>1.040712e-03</td>\n",
       "    </tr>\n",
       "    <tr>\n",
       "      <th>3</th>\n",
       "      <td>HDL</td>\n",
       "      <td>7.241491</td>\n",
       "      <td>7.668418e-03</td>\n",
       "    </tr>\n",
       "    <tr>\n",
       "      <th>4</th>\n",
       "      <td>gender</td>\n",
       "      <td>6.991558</td>\n",
       "      <td>8.776612e-03</td>\n",
       "    </tr>\n",
       "    <tr>\n",
       "      <th>5</th>\n",
       "      <td>ALP</td>\n",
       "      <td>5.913373</td>\n",
       "      <td>1.582257e-02</td>\n",
       "    </tr>\n",
       "    <tr>\n",
       "      <th>6</th>\n",
       "      <td>creatinine</td>\n",
       "      <td>5.368904</td>\n",
       "      <td>2.141423e-02</td>\n",
       "    </tr>\n",
       "    <tr>\n",
       "      <th>7</th>\n",
       "      <td>diabetes</td>\n",
       "      <td>4.464304</td>\n",
       "      <td>3.573218e-02</td>\n",
       "    </tr>\n",
       "    <tr>\n",
       "      <th>8</th>\n",
       "      <td>height</td>\n",
       "      <td>3.962037</td>\n",
       "      <td>4.776942e-02</td>\n",
       "    </tr>\n",
       "    <tr>\n",
       "      <th>9</th>\n",
       "      <td>hyperlipiidemia</td>\n",
       "      <td>3.856987</td>\n",
       "      <td>5.079294e-02</td>\n",
       "    </tr>\n",
       "    <tr>\n",
       "      <th>10</th>\n",
       "      <td>AST</td>\n",
       "      <td>3.323155</td>\n",
       "      <td>6.966174e-02</td>\n",
       "    </tr>\n",
       "    <tr>\n",
       "      <th>11</th>\n",
       "      <td>LDL</td>\n",
       "      <td>2.823780</td>\n",
       "      <td>9.429030e-02</td>\n",
       "    </tr>\n",
       "    <tr>\n",
       "      <th>12</th>\n",
       "      <td>coroaryArtDisease</td>\n",
       "      <td>2.744062</td>\n",
       "      <td>9.903540e-02</td>\n",
       "    </tr>\n",
       "  </tbody>\n",
       "</table>\n",
       "</div>"
      ],
      "text/plain": [
       "                index     fScore       p-value\n",
       "0            vitaminD  36.220134  7.251193e-09\n",
       "1     reactiveProtein  15.591825  1.056737e-04\n",
       "2          hemoglobin  11.045096  1.040712e-03\n",
       "3                 HDL   7.241491  7.668418e-03\n",
       "4              gender   6.991558  8.776612e-03\n",
       "5                 ALP   5.913373  1.582257e-02\n",
       "6          creatinine   5.368904  2.141423e-02\n",
       "7            diabetes   4.464304  3.573218e-02\n",
       "8              height   3.962037  4.776942e-02\n",
       "9     hyperlipiidemia   3.856987  5.079294e-02\n",
       "10                AST   3.323155  6.966174e-02\n",
       "11                LDL   2.823780  9.429030e-02\n",
       "12  coroaryArtDisease   2.744062  9.903540e-02"
      ]
     },
     "execution_count": 26,
     "metadata": {},
     "output_type": "execute_result"
    }
   ],
   "source": [
    "def featuresLab(X, Y, method='old'):\n",
    "    fscoreLab, pval = f_classif(X, Y)\n",
    "\n",
    "    if method == 'old':\n",
    "        features = pd.DataFrame({'fScore': fscoreLab, 'p-value': pval}, index=X.columns)\n",
    "        features = features[features['fScore'] > 0.70]\n",
    "  \n",
    "    elif method =='new':\n",
    "        features = pd.DataFrame({'fScore': fscoreLab, 'p-value': pval}, index=X.columns)\n",
    "        features = features[features['fScore'] > 2] # values with ok staf sig \n",
    "\n",
    "    else:\n",
    "        raise Exception('not implementeeed')\n",
    "    \n",
    "    return features.sort_values(by=['fScore'], ascending=False).reset_index()\n",
    "\n",
    "df_featuresLab = featuresLab(XlabTrain, YlabTrain, method='new')\n",
    "df_featuresLab"
   ]
  },
  {
   "cell_type": "code",
   "execution_count": null,
   "id": "ce2226e9",
   "metadata": {},
   "outputs": [],
   "source": [
    "# save  results to csv\n",
    "    ## X_lab = df_labResults[df_featuresLab['index']]\n",
    "    ##  Y_lab  = df_labResults['gallstoneStatus']\n",
    "\n",
    "# save results-main features to csv \n",
    "    ## featuresList = features.index.tolist()\n",
    "    ## pd.Series(features).to_csv('fscore_features.csv')"
   ]
  },
  {
   "cell_type": "code",
   "execution_count": 31,
   "id": "b80a05f8",
   "metadata": {},
   "outputs": [],
   "source": [
    "#   save results to csv \n",
    "    ## dfLabs = X_lab.merge(Y_lab, left_index=True, right_index=True, how='left')\n",
    "    ## pd.DataFrame(dfLabs).to_csv('df_lab.csv'"
   ]
  },
  {
   "cell_type": "markdown",
   "id": "beab9e67",
   "metadata": {},
   "source": []
  }
 ],
 "metadata": {
  "kernelspec": {
   "display_name": "base",
   "language": "python",
   "name": "python3"
  },
  "language_info": {
   "codemirror_mode": {
    "name": "ipython",
    "version": 3
   },
   "file_extension": ".py",
   "mimetype": "text/x-python",
   "name": "python",
   "nbconvert_exporter": "python",
   "pygments_lexer": "ipython3",
   "version": "3.13.5"
  }
 },
 "nbformat": 4,
 "nbformat_minor": 5
}
