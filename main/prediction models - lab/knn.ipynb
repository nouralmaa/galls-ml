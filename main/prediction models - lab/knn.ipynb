{
 "cells": [
  {
   "cell_type": "code",
   "execution_count": 68,
   "id": "b0c7b017",
   "metadata": {},
   "outputs": [],
   "source": [
    "import pandas as pd\n",
    "import numpy as np\n",
    "import seaborn as sns\n",
    "import matplotlib.pyplot as plt\n",
    "\n",
    "from collections import Counter\n",
    "from sklearn.impute import SimpleImputer\n",
    "from sklearn.preprocessing import StandardScaler\n",
    "from sklearn.model_selection import train_test_split\n",
    "from sklearn.metrics import confusion_matrix, accuracy_score, classification_report, mean_absolute_error, roc_auc_score\n",
    "\n",
    "%run \"util copy.ipynb\""
   ]
  },
  {
   "cell_type": "markdown",
   "id": "f32f5702",
   "metadata": {},
   "source": [
    "# knn"
   ]
  },
  {
   "cell_type": "code",
   "execution_count": 48,
   "id": "9a2c0ebe",
   "metadata": {},
   "outputs": [],
   "source": [
    "# https://github.com/AmirAli5/Machine-Learning/blob/main/Supervised%20Machine%20Learning/Classification/3.%20k-Nearest%20Neighbors/k-Nearest%20Neighbors.ipynb"
   ]
  },
  {
   "cell_type": "markdown",
   "id": "33dbd9f9",
   "metadata": {},
   "source": [
    "# Load Data"
   ]
  },
  {
   "cell_type": "code",
   "execution_count": 49,
   "id": "dd439281",
   "metadata": {},
   "outputs": [],
   "source": [
    "X, Y, df_lab = get_data_lab()"
   ]
  },
  {
   "cell_type": "code",
   "execution_count": 50,
   "id": "067406f5",
   "metadata": {},
   "outputs": [
    {
     "name": "stdout",
     "output_type": "stream",
     "text": [
      "<class 'pandas.core.frame.DataFrame'>\n",
      "RangeIndex: 319 entries, 0 to 318\n",
      "Data columns (total 13 columns):\n",
      " #   Column             Non-Null Count  Dtype  \n",
      "---  ------             --------------  -----  \n",
      " 0   vitaminD           319 non-null    float64\n",
      " 1   reactiveProtein    319 non-null    float64\n",
      " 2   hemoglobin         319 non-null    float64\n",
      " 3   HDL                319 non-null    float64\n",
      " 4   gender             319 non-null    int64  \n",
      " 5   ALP                319 non-null    float64\n",
      " 6   creatinine         319 non-null    float64\n",
      " 7   diabetes           319 non-null    int64  \n",
      " 8   hyperlipiidemia    319 non-null    int64  \n",
      " 9   AST                319 non-null    float64\n",
      " 10  LDL                319 non-null    float64\n",
      " 11  coroaryArtDisease  319 non-null    int64  \n",
      " 12  gallstoneStatus    319 non-null    int64  \n",
      "dtypes: float64(8), int64(5)\n",
      "memory usage: 32.5 KB\n"
     ]
    }
   ],
   "source": [
    "df_lab.info()"
   ]
  },
  {
   "cell_type": "markdown",
   "id": "381ac250",
   "metadata": {},
   "source": [
    "# Define attributes"
   ]
  },
  {
   "cell_type": "code",
   "execution_count": 53,
   "id": "3b76717a",
   "metadata": {},
   "outputs": [],
   "source": [
    "X = df_lab.iloc[:, :-1].to_numpy()\n",
    "Y = df_lab.iloc[:, -1].to_numpy()"
   ]
  },
  {
   "cell_type": "code",
   "execution_count": null,
   "id": "5d03528b",
   "metadata": {},
   "outputs": [],
   "source": [
    "# Feature scaling\n",
    "\n",
    "sc_X = StandardScaler()\n",
    "X = sc_X.fit_transform(X) "
   ]
  },
  {
   "cell_type": "code",
   "execution_count": 57,
   "id": "dd2e3736",
   "metadata": {},
   "outputs": [],
   "source": [
    "Xtrain, Xtest, Ytrain, Ytest = train_test_split(X, Y, test_size=0.3, random_state=0)"
   ]
  },
  {
   "cell_type": "code",
   "execution_count": 58,
   "id": "7497fb46",
   "metadata": {},
   "outputs": [
    {
     "name": "stdout",
     "output_type": "stream",
     "text": [
      "Xtrain (223, 12)\n",
      "Ytrain (223,)\n"
     ]
    }
   ],
   "source": [
    "print(\"Xtrain\", Xtrain.shape)\n",
    "print(\"Ytrain\", Ytrain.shape)"
   ]
  },
  {
   "cell_type": "markdown",
   "id": "135dad90",
   "metadata": {},
   "source": [
    "# Build model"
   ]
  },
  {
   "cell_type": "code",
   "execution_count": 59,
   "id": "11b91400",
   "metadata": {},
   "outputs": [],
   "source": [
    "def euclidean_distance(x1, x2):\n",
    "    return np.sqrt(np.sum((x1-x2) ** 2))\n",
    "\n",
    "class KNN: \n",
    "    def __init__(self, k=3):\n",
    "        self.k = k\n",
    "    def fit(self, X, Y):\n",
    "        self.Xtrain = X\n",
    "        self.Ytrain = Y\n",
    "    def predict(self, X):\n",
    "        Ypred = [self._predict(x) for x in X]\n",
    "        return np.array(Ypred)\n",
    "    def _predict(self, x):\n",
    "        distances = [euclidean_distance(x, xtrain) for xtrain in self.Xtrain]\n",
    "        k_idx = np.argsort(distances)[: self.k]\n",
    "        k_n_labels = [self.Ytrain[i] for i in k_idx]\n",
    "        most_common = Counter(k_n_labels).most_common(1)\n",
    "        return most_common[0][0]"
   ]
  },
  {
   "cell_type": "code",
   "execution_count": 60,
   "id": "c87213a0",
   "metadata": {},
   "outputs": [],
   "source": [
    "knn = KNN(k=5)\n",
    "knn.fit(Xtrain, Ytrain)"
   ]
  },
  {
   "cell_type": "code",
   "execution_count": 61,
   "id": "949d8e2a",
   "metadata": {},
   "outputs": [
    {
     "data": {
      "text/plain": [
       "array([1, 1, 0, 0, 1, 1, 1, 1, 1, 1, 1, 0, 0, 1, 0, 0, 0, 1, 0, 0, 1, 0,\n",
       "       0, 0, 1, 1, 1, 0, 1, 0, 1, 0, 1, 0, 0, 1, 0, 0, 1, 0, 1, 1, 0, 0,\n",
       "       1, 0, 1, 0, 1, 1, 0, 1, 1, 0, 0, 1, 0, 1, 0, 0, 0, 0, 0, 1, 1, 0,\n",
       "       1, 1, 1, 1, 0, 1, 1, 1, 1, 0, 0, 0, 1, 0, 0, 1, 1, 0, 0, 0, 0, 1,\n",
       "       0, 1, 0, 0, 1, 1, 1, 0])"
      ]
     },
     "execution_count": 61,
     "metadata": {},
     "output_type": "execute_result"
    }
   ],
   "source": [
    "Ypredict = knn.predict(Xtest)\n",
    "Ypredict"
   ]
  },
  {
   "cell_type": "code",
   "execution_count": 62,
   "id": "648275dd",
   "metadata": {},
   "outputs": [
    {
     "data": {
      "text/plain": [
       "0.7291666666666666"
      ]
     },
     "execution_count": 62,
     "metadata": {},
     "output_type": "execute_result"
    }
   ],
   "source": [
    "accuracy_score(Ypredict, Ytest)"
   ]
  },
  {
   "cell_type": "code",
   "execution_count": 63,
   "id": "f9c4e4b4",
   "metadata": {},
   "outputs": [
    {
     "name": "stdout",
     "output_type": "stream",
     "text": [
      "              precision    recall  f1-score   support\n",
      "\n",
      "           0       0.71      0.77      0.74        48\n",
      "           1       0.75      0.69      0.72        48\n",
      "\n",
      "    accuracy                           0.73        96\n",
      "   macro avg       0.73      0.73      0.73        96\n",
      "weighted avg       0.73      0.73      0.73        96\n",
      "\n"
     ]
    }
   ],
   "source": [
    "print(classification_report(Ypredict, Ytest))"
   ]
  },
  {
   "cell_type": "code",
   "execution_count": 71,
   "id": "9f0b0f10",
   "metadata": {},
   "outputs": [
    {
     "name": "stdout",
     "output_type": "stream",
     "text": [
      "0.2708333333333333\n"
     ]
    }
   ],
   "source": [
    "print(mean_absolute_error(Ypredict, Ytest))"
   ]
  },
  {
   "cell_type": "code",
   "execution_count": 72,
   "id": "69053bd0",
   "metadata": {},
   "outputs": [
    {
     "name": "stdout",
     "output_type": "stream",
     "text": [
      "0.7291666666666666\n"
     ]
    }
   ],
   "source": [
    "print(roc_auc_score(Ypredict, Ytest))"
   ]
  }
 ],
 "metadata": {
  "kernelspec": {
   "display_name": "base",
   "language": "python",
   "name": "python3"
  },
  "language_info": {
   "codemirror_mode": {
    "name": "ipython",
    "version": 3
   },
   "file_extension": ".py",
   "mimetype": "text/x-python",
   "name": "python",
   "nbconvert_exporter": "python",
   "pygments_lexer": "ipython3",
   "version": "3.13.5"
  }
 },
 "nbformat": 4,
 "nbformat_minor": 5
}
